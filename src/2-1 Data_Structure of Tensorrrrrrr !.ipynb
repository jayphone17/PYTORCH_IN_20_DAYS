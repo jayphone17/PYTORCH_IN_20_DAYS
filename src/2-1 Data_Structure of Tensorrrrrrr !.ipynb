{
 "cells": [
  {
   "cell_type": "code",
   "execution_count": 4,
   "id": "71983ce0",
   "metadata": {},
   "outputs": [
    {
     "name": "stdout",
     "output_type": "stream",
     "text": [
      "tensor(1) torch.int64\n",
      "tensor(2.) torch.float32\n",
      "tensor(True) torch.bool\n"
     ]
    }
   ],
   "source": [
    "# Why PyTorch ?\n",
    "\n",
    "# 1. 支持GPU加速的张量积算\n",
    "# 2. 方便优化模型的自动微分机制\n",
    "\n",
    "\n",
    "# 一、张量数据类型\n",
    "# Pytorch基本数据结构是Tensor，即多维数组，与numpy的array类似\n",
    "\n",
    "# Includs：\n",
    "# torch.float64 (torch.double)\n",
    "# torch.float32 (torch.float)\n",
    "# torch.float16\n",
    "\n",
    "# torch.ini64(torch.long)\n",
    "# torch.int32(torch.int)\n",
    "# torch.int16\n",
    "# torch.int8\n",
    "# torch.uint8\n",
    "# torch.bool\n",
    "\n",
    "# 一般神经网络建模使用的是torch.float32\n",
    "\n",
    "import numpy as np\n",
    "import torch\n",
    "\n",
    "# 1. 自动判断数据类型\n",
    "\n",
    "i = torch.tensor(1)\n",
    "print(i,i.dtype)\n",
    "x = torch.tensor(2.0)\n",
    "print(x,x.dtype)\n",
    "b = torch.tensor(True)\n",
    "print(b,b.dtype)"
   ]
  },
  {
   "cell_type": "code",
   "execution_count": 5,
   "id": "ff61b333",
   "metadata": {},
   "outputs": [
    {
     "name": "stdout",
     "output_type": "stream",
     "text": [
      "tensor(1, dtype=torch.int32) torch.int32\n",
      "tensor(2., dtype=torch.float64) torch.float64\n"
     ]
    }
   ],
   "source": [
    "# 2. 指定数据类型\n",
    "\n",
    "i = torch.tensor(1,dtype = torch.int32)\n",
    "print(i,i.dtype)\n",
    "x = torch.tensor(2.0,dtype = torch.double)\n",
    "print(x,x.dtype)"
   ]
  },
  {
   "cell_type": "code",
   "execution_count": 6,
   "id": "24e4655e",
   "metadata": {},
   "outputs": [
    {
     "name": "stdout",
     "output_type": "stream",
     "text": [
      "tensor([0], dtype=torch.int32) torch.int32\n",
      "tensor(2.) torch.float32\n",
      "tensor([ True, False,  True, False]) torch.bool\n"
     ]
    }
   ],
   "source": [
    "# 3. 使用特定类型构造函数\n",
    "\n",
    "i = torch.IntTensor(1)\n",
    "print(i,i.dtype)\n",
    "x = torch.Tensor(np.array(2.0)) #等价于torch.FloatTensor\n",
    "print(x,x.dtype)\n",
    "b = torch.BoolTensor(np.array([1,0,2,0]))\n",
    "print(b,b.dtype)"
   ]
  },
  {
   "cell_type": "code",
   "execution_count": 7,
   "id": "771b0a59",
   "metadata": {},
   "outputs": [
    {
     "name": "stdout",
     "output_type": "stream",
     "text": [
      "tensor(1) torch.int64\n",
      "tensor(1.) torch.float32\n",
      "tensor(1.) torch.float32\n",
      "tensor(1.) torch.float32\n"
     ]
    }
   ],
   "source": [
    "# 4. 不同类型进行转换\n",
    "\n",
    "i = torch.tensor(1)\n",
    "print(i,i.dtype)\n",
    "x = i.float()\n",
    "# 调用float方法转换成浮点类型\n",
    "print(x,x.dtype)\n",
    "y = i.type(torch.float)\n",
    "# 使用type函数转换成浮点类型\n",
    "print(y,y.dtype)\n",
    "z = i.type_as(x)\n",
    "# 使用type_as方法转换成某个Tensor相同类型\n",
    "print(z,z.dtype)"
   ]
  },
  {
   "cell_type": "code",
   "execution_count": 8,
   "id": "3b5743aa",
   "metadata": {},
   "outputs": [
    {
     "name": "stdout",
     "output_type": "stream",
     "text": [
      "tensor(True)\n",
      "0\n"
     ]
    }
   ],
   "source": [
    "# 二、 张量的维度\n",
    "# 不同类型的数据可以用不同维度的张量来表示。\n",
    "\n",
    "# 标量为0维张量，\n",
    "# 向量为1维张量，\n",
    "# 矩阵为2维张量，\n",
    "# RGB可以表述为3为张量。\n",
    "# 视频时间维可以表示为4维张量。\n",
    "\n",
    "# 简单理解为：有几层中括号就是几维张量。\n",
    "\n",
    "# 1. 标量\n",
    "scalar = torch.tensor(True)\n",
    "print(scalar)\n",
    "print(scalar.dim())\n"
   ]
  },
  {
   "cell_type": "code",
   "execution_count": 9,
   "id": "8eb0340b",
   "metadata": {},
   "outputs": [
    {
     "name": "stdout",
     "output_type": "stream",
     "text": [
      "tensor([1., 2., 3., 4.])\n",
      "1\n"
     ]
    }
   ],
   "source": [
    "# 2. 向量\n",
    "vector = torch.tensor([1.0, 2.0, 3.0, 4.0])\n",
    "print(vector)\n",
    "print(vector.dim())"
   ]
  },
  {
   "cell_type": "code",
   "execution_count": 11,
   "id": "192f379e",
   "metadata": {},
   "outputs": [
    {
     "name": "stdout",
     "output_type": "stream",
     "text": [
      "tensor([[1., 2.],\n",
      "        [3., 4.]])\n",
      "2\n"
     ]
    }
   ],
   "source": [
    "# 3. 矩阵\n",
    "matrix = torch.tensor([[1.0,2.0], [3.0,4.0]])\n",
    "print(matrix)\n",
    "print(matrix.dim())"
   ]
  },
  {
   "cell_type": "code",
   "execution_count": 12,
   "id": "788ea43c",
   "metadata": {},
   "outputs": [
    {
     "name": "stdout",
     "output_type": "stream",
     "text": [
      "tensor([[[1., 2.],\n",
      "         [3., 4.]],\n",
      "\n",
      "        [[5., 6.],\n",
      "         [7., 8.]]])\n",
      "3\n"
     ]
    }
   ],
   "source": [
    "# 4. 三维张量\n",
    "matrix = torch.tensor([[[1.0,2.0],[3.0,4.0]],[[5.0,6.0], [7.0,8.0]]])\n",
    "print(matrix)\n",
    "print(matrix.dim())"
   ]
  },
  {
   "cell_type": "code",
   "execution_count": 13,
   "id": "e5c0cf01",
   "metadata": {
    "scrolled": true
   },
   "outputs": [
    {
     "name": "stdout",
     "output_type": "stream",
     "text": [
      "tensor([[[[1., 1.],\n",
      "          [2., 2.]],\n",
      "\n",
      "         [[3., 3.],\n",
      "          [4., 4.]]],\n",
      "\n",
      "\n",
      "        [[[5., 5.],\n",
      "          [6., 6.]],\n",
      "\n",
      "         [[7., 7.],\n",
      "          [8., 8.]]]])\n",
      "4\n"
     ]
    }
   ],
   "source": [
    "# 5. 四维张量\n",
    "tensor4 = torch.tensor([[[[1.0,1.0],[2.0,2.0]],[[3.0,3.0],[4.0,4.0]]],                        \n",
    "                        [[[5.0,5.0],[6.0,6.0]],[[7.0,7.0],[8.0,8.0]]]])\n",
    "\n",
    "print(tensor4)\n",
    "print(tensor4.dim())"
   ]
  },
  {
   "cell_type": "code",
   "execution_count": null,
   "id": "d89242c7",
   "metadata": {},
   "outputs": [],
   "source": [
    "# 三、 张量的尺寸\n",
    "# 使用shape属性或者size()方法查看每一维度的长度\n",
    "# 使用view()方法改变张量尺寸。\n",
    "# 如果fail，使用reshape()方法\n",
    "\n"
   ]
  }
 ],
 "metadata": {
  "kernelspec": {
   "display_name": "Python 3 (ipykernel)",
   "language": "python",
   "name": "python3"
  },
  "language_info": {
   "codemirror_mode": {
    "name": "ipython",
    "version": 3
   },
   "file_extension": ".py",
   "mimetype": "text/x-python",
   "name": "python",
   "nbconvert_exporter": "python",
   "pygments_lexer": "ipython3",
   "version": "3.8.11"
  }
 },
 "nbformat": 4,
 "nbformat_minor": 5
}
