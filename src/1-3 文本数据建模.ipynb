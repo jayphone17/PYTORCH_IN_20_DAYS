{
 "cells": [
  {
   "cell_type": "code",
   "execution_count": 2,
   "id": "1f0c167c",
   "metadata": {
    "scrolled": false
   },
   "outputs": [
    {
     "name": "stdout",
     "output_type": "stream",
     "text": [
      "['it', 'really', 'boggles', 'my', 'mind', 'when', 'someone', 'comes', 'across', 'a', 'movie', 'like', 'this', 'and', 'claims', 'it', 'to', 'be', 'one', 'of', 'the', 'worst', 'slasher', 'films', 'out', 'there', 'this', 'is', 'by', 'far', 'not', 'one', 'of', 'the', 'worst', 'out', 'there', 'still', 'not', 'a', 'good', 'movie', 'but', 'not', 'the', 'worst', 'nonetheless', 'go', 'see', 'something', 'like', 'death', 'nurse', 'or', 'blood', 'lake', 'and', 'then', 'come', 'back', 'to', 'me', 'and', 'tell', 'me', 'if', 'you', 'think', 'the', 'night', 'brings', 'charlie', 'is', 'the', 'worst', 'the', 'film', 'has', 'decent', 'camera', 'work', 'and', 'editing', 'which', 'is', 'way', 'more', 'than', 'i', 'can', 'say', 'for', 'many', 'more', 'extremely', 'obscure', 'slasher', 'filmsbr', 'br', 'the', 'film', 'doesnt', 'deliver', 'on', 'the', 'onscreen', 'deaths', 'theres', 'one', 'death', 'where', 'you', 'see', 'his', 'pruning', 'saw', 'rip', 'into', 'a', 'neck', 'but', 'all', 'other', 'deaths', 'are', 'hardly', 'interesting', 'but', 'the', 'lack', 'of', 'onscreen', 'graphic', 'violence', 'doesnt', 'mean', 'this', 'isnt', 'a', 'slasher', 'film', 'just', 'a', 'bad', 'onebr', 'br', 'the', 'film', 'was', 'obviously', 'intended', 'not', 'to', 'be', 'taken', 'too', 'seriously', 'the', 'film', 'came', 'in', 'at', 'the', 'end', 'of', 'the', 'second', 'slasher', 'cycle', 'so', 'it', 'certainly', 'was', 'a', 'reflection', 'on', 'traditional', 'slasher', 'elements', 'done', 'in', 'a', 'tongue', 'in', 'cheek', 'way', 'for', 'example', 'after', 'a', 'kill', 'charlie', 'goes', 'to', 'the', 'towns', 'welcome', 'sign', 'and', 'marks', 'the', 'population', 'down', 'one', 'less', 'this', 'is', 'something', 'that', 'can', 'only', 'get', 'a', 'laughbr', 'br', 'if', 'youre', 'into', 'slasher', 'films', 'definitely', 'give', 'this', 'film', 'a', 'watch', 'it', 'is', 'slightly', 'different', 'than', 'your', 'usual', 'slasher', 'film', 'with', 'possibility', 'of', 'two', 'killers', 'but', 'not', 'by', 'much', 'the', 'comedy', 'of', 'the', 'movie', 'is', 'pretty', 'much', 'telling', 'the', 'audience', 'to', 'relax', 'and', 'not', 'take', 'the', 'movie', 'so', 'god', 'darn', 'serious', 'you', 'may', 'forget', 'the', 'movie', 'you', 'may', 'remember', 'it', 'ill', 'remember', 'it', 'because', 'i', 'love', 'the', 'name']\n",
      "0\n"
     ]
    }
   ],
   "source": [
    "# 一、准备数据\n",
    "\n",
    "# imdb数据集的目标是根据电影评论的文本内容预测评论的情感标签。\n",
    "\n",
    "# 训练集有20000条电影评论文本，测试集有5000条电影评论文本，\n",
    "\n",
    "# 其中正面评论和负面评论都各占一半。 \n",
    "\n",
    "# 文本数据预处理较为繁琐，\n",
    "\n",
    "# 包括中文切词（本示例不涉及），\n",
    "\n",
    "# 构建词典，编码转换，序列填充，构建数据管道等等。 \n",
    "\n",
    "# 在torch中预处理文本数据一般使用torchtext或者自定义Dataset，\n",
    "\n",
    "# torchtext功能非常强大，可以构建文本分类，序列标注，问答模型，机器翻译等NLP任务的数据集。\n",
    "\n",
    "# torchtext常见API一览：\n",
    "\n",
    "# torchtext.data.Example : 用来表示一个样本，数据和标签 \n",
    "    \n",
    "# torchtext.vocab.Vocab: 词汇表，可以导入一些预训练词向量 \n",
    "    \n",
    "# torchtext.data.Datasets: 数据集类，__getitem__返回 Example实例, \n",
    "    \n",
    "# torchtext.data.TabularDataset是其子类。 \n",
    "\n",
    "# torchtext.data.Field : 用来定义字段的处理方法（文本字段，标签字段）创建 Example时的 预处理，batch 时的一些处理操作。\n",
    "    \n",
    "# torchtext.data.Iterator: 迭代器，用来生成 batch \n",
    "    \n",
    "# torchtext.datasets: 包含了常见的数据集。\n",
    "        \n",
    "import torch\n",
    "import string, re\n",
    "import torchtext\n",
    "\n",
    "# 仅考虑最高频的10000个词\n",
    "MAX_WORDS = 10000\n",
    "# 每个样本保留200个词的长度\n",
    "MAX_LEN = 200\n",
    "BATCH_SIZE = 20\n",
    "\n",
    "# 分词方法\n",
    "tokenizer = lambda x:re.sub('[%s]'%string.punctuation,\"\",x).split(\" \")\n",
    "\n",
    "# 过滤掉低频词\n",
    "def filterLowFreqWords(arr, vocabs):\n",
    "    arr = [[x if x<MAX_WORDS else 0 for x in example]\n",
    "          for example in arr]\n",
    "    return arr\n",
    "\n",
    "# 1. 定义各个字段的预处理方法\n",
    "TEXT = torchtext.legacy.data.Field(sequential=True, tokenize=tokenizer, lower=True,\n",
    "                            fix_length=MAX_LEN,postprocessing = filterLowFreqWords)\n",
    "LABEL = torchtext.legacy.data.Field(sequential=False, use_vocab=False)\n",
    "\n",
    "# 2.构建表格型dataset\n",
    " #torchtext.data.TabularDataset可读取csv,tsv,json等格式\n",
    "ds_train, ds_test = torchtext.legacy.data.TabularDataset.splits(       \n",
    "        path='../data/imdb', train='train.tsv',test='test.tsv', format='tsv',        \n",
    "        fields=[('label', LABEL), ('text', TEXT)],skip_header = False)\n",
    "\n",
    "# 3. 构建词典\n",
    "TEXT.build_vocab(ds_train) \n",
    "\n",
    "# 4. 构建数据管道迭代器\n",
    "train_iter, test_iter = torchtext.legacy.data.Iterator.splits(        \n",
    "    (ds_train, ds_test),  sort_within_batch=True,sort_key=lambda x: len(x.text),        \n",
    "    batch_sizes=(BATCH_SIZE,BATCH_SIZE))\n",
    "\n",
    "#查看example信息 \n",
    "print(ds_train[0].text) \n",
    "print(ds_train[0].label)"
   ]
  },
  {
   "cell_type": "code",
   "execution_count": 3,
   "id": "317dc20e",
   "metadata": {},
   "outputs": [
    {
     "name": "stdout",
     "output_type": "stream",
     "text": [
      "108197\n",
      "<unk>\n",
      "<pad>\n",
      "0\n",
      "1\n",
      "0\n",
      "129453\n",
      "11457\n"
     ]
    }
   ],
   "source": [
    "print(len(TEXT.vocab))\n",
    "\n",
    "# index转换成string类型\n",
    "print(TEXT.vocab.itos[0])\n",
    "print(TEXT.vocab.itos[1])\n",
    "\n",
    "# string转换成index\n",
    "# 未知词\n",
    "print(TEXT.vocab.stoi['<unk>'])\n",
    "# padding填充\n",
    "print(TEXT.vocab.stoi['<pad>'])\n",
    "\n",
    "# freqs词频\n",
    "print(TEXT.vocab.freqs['<unk>'])\n",
    "print(TEXT.vocab.freqs['a'])\n",
    "print(TEXT.vocab.freqs['good'])\n"
   ]
  },
  {
   "cell_type": "code",
   "execution_count": 4,
   "id": "c4398837",
   "metadata": {},
   "outputs": [
    {
     "name": "stdout",
     "output_type": "stream",
     "text": [
      "tensor([[ 49,  10,  10,  ...,  11,   4,  82],\n",
      "        [  7,  42, 317,  ...,   7,   0,  73],\n",
      "        [116,  26, 116,  ...,  35, 114,  64],\n",
      "        ...,\n",
      "        [473,  95,  69,  ...,   1,   1,   1],\n",
      "        [105,  12,  11,  ...,   1,   1,   1],\n",
      "        [  9,  70,  18,  ...,   1,   1,   1]])\n",
      "torch.Size([200, 20])\n",
      "tensor([1, 0, 1, 1, 0, 0, 1, 0, 1, 0, 1, 1, 1, 1, 0, 1, 0, 1, 0, 0])\n"
     ]
    }
   ],
   "source": [
    "# 查看数据管道信息\n",
    "# 注意text第0维度是句子长度\n",
    "\n",
    "for batch in train_iter:\n",
    "    features = batch.text\n",
    "    labels = batch.label\n",
    "    print(features)\n",
    "    print(features.shape)\n",
    "    print(labels)\n",
    "    break\n",
    "    "
   ]
  },
  {
   "cell_type": "code",
   "execution_count": 6,
   "id": "2bdb714e",
   "metadata": {},
   "outputs": [],
   "source": [
    "# 将数据管道组织成torch.utils.data.DataLoader相似的features,label输出形式\n",
    "\n",
    "class DataLoader:\n",
    "    def __init__(self,data_iter):\n",
    "        self.data_iter = data_iter\n",
    "        self.length = len(data_iter)\n",
    "    def __len__(self):\n",
    "        return self.length\n",
    "    def __iter__(self):\n",
    "#         此处调整features为batch first\n",
    "#         并调整label的shape和dtype\n",
    "        for batch in self.data_iter:\n",
    "            yield(torch.transpose(batch.text,0,1),\n",
    "                 torch.unsqueeze(batch.label.float(), dim = 1))\n",
    "dl_train = DataLoader(train_iter)\n",
    "dl_test = DataLoader(test_iter)"
   ]
  },
  {
   "cell_type": "code",
   "execution_count": null,
   "id": "0b06134a",
   "metadata": {},
   "outputs": [],
   "source": [
    "# 二、定义模型\n",
    "\n",
    "# 使用Pytorch通常有三种方式构建模型：\n",
    "# 使用nn.Sequential按层顺序构建模型，\n",
    "# 继承nn.Module 基类构建自定义模型，\n",
    "# 继承nn.Module基类构建模型并辅助应用模型容器 \n",
    "# (nn.Sequential,nn.ModuleList,nn.ModuleDict)进行封装。\n",
    "\n",
    "# 由于接下来使用类形式的训练循环，\n",
    "# 我们将模型封装成torchkeras.Model类来获得类似Keras中高阶模型接口的功能。 \n",
    "# Model类实际上继承自nn.Module类"
   ]
  }
 ],
 "metadata": {
  "kernelspec": {
   "display_name": "Python 3 (ipykernel)",
   "language": "python",
   "name": "python3"
  },
  "language_info": {
   "codemirror_mode": {
    "name": "ipython",
    "version": 3
   },
   "file_extension": ".py",
   "mimetype": "text/x-python",
   "name": "python",
   "nbconvert_exporter": "python",
   "pygments_lexer": "ipython3",
   "version": "3.8.11"
  }
 },
 "nbformat": 4,
 "nbformat_minor": 5
}
