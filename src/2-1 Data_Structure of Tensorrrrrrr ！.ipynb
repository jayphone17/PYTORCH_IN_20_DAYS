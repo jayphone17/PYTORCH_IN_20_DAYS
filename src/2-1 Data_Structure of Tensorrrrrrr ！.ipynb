{
 "cells": [
  {
   "cell_type": "code",
   "execution_count": 4,
   "id": "f60562b2",
   "metadata": {},
   "outputs": [
    {
     "name": "stdout",
     "output_type": "stream",
     "text": [
      "tensor(1) torch.int64\n",
      "tensor(2.) torch.float32\n",
      "tensor(True) torch.bool\n"
     ]
    }
   ],
   "source": [
    "# Why PyTorch ?\n",
    "\n",
    "# 1. 支持GPU加速的张量积算\n",
    "# 2. 方便优化模型的自动微分机制\n",
    "\n",
    "\n",
    "# 一、张量数据类型\n",
    "# Pytorch基本数据结构是Tensor，即多维数组，与numpy的array类似\n",
    "\n",
    "# Includs：\n",
    "# torch.float64 (torch.double)\n",
    "# torch.float32 (torch.float)\n",
    "# torch.float16\n",
    "\n",
    "# torch.ini64(torch.long)\n",
    "# torch.int32(torch.int)\n",
    "# torch.int16\n",
    "# torch.int8\n",
    "# torch.uint8\n",
    "# torch.bool\n",
    "\n",
    "# 一般神经网络建模使用的是torch.float32\n",
    "\n",
    "import numpy as np\n",
    "import torch\n",
    "\n",
    "# 1. 自动判断数据类型\n",
    "\n",
    "i = torch.tensor(1)\n",
    "print(i,i.dtype)\n",
    "x = torch.tensor(2.0)\n",
    "print(x,x.dtype)\n",
    "b = torch.tensor(True)\n",
    "print(b,b.dtype)"
   ]
  },
  {
   "cell_type": "code",
   "execution_count": 5,
   "id": "17d84428",
   "metadata": {},
   "outputs": [
    {
     "name": "stdout",
     "output_type": "stream",
     "text": [
      "tensor(1, dtype=torch.int32) torch.int32\n",
      "tensor(2., dtype=torch.float64) torch.float64\n"
     ]
    }
   ],
   "source": [
    "# 2. 指定数据类型\n",
    "\n",
    "i = torch.tensor(1,dtype = torch.int32)\n",
    "print(i,i.dtype)\n",
    "x = torch.tensor(2.0,dtype = torch.double)\n",
    "print(x,x.dtype)"
   ]
  },
  {
   "cell_type": "code",
   "execution_count": 6,
   "id": "e435600b",
   "metadata": {},
   "outputs": [
    {
     "name": "stdout",
     "output_type": "stream",
     "text": [
      "tensor([0], dtype=torch.int32) torch.int32\n",
      "tensor(2.) torch.float32\n",
      "tensor([ True, False,  True, False]) torch.bool\n"
     ]
    }
   ],
   "source": [
    "# 3. 使用特定类型构造函数\n",
    "\n",
    "i = torch.IntTensor(1)\n",
    "print(i,i.dtype)\n",
    "x = torch.Tensor(np.array(2.0)) #等价于torch.FloatTensor\n",
    "print(x,x.dtype)\n",
    "b = torch.BoolTensor(np.array([1,0,2,0]))\n",
    "print(b,b.dtype)"
   ]
  },
  {
   "cell_type": "code",
   "execution_count": 7,
   "id": "80f45cd4",
   "metadata": {},
   "outputs": [
    {
     "name": "stdout",
     "output_type": "stream",
     "text": [
      "tensor(1) torch.int64\n",
      "tensor(1.) torch.float32\n",
      "tensor(1.) torch.float32\n",
      "tensor(1.) torch.float32\n"
     ]
    }
   ],
   "source": [
    "# 4. 不同类型进行转换\n",
    "\n",
    "i = torch.tensor(1)\n",
    "print(i,i.dtype)\n",
    "x = i.float()\n",
    "# 调用float方法转换成浮点类型\n",
    "print(x,x.dtype)\n",
    "y = i.type(torch.float)\n",
    "# 使用type函数转换成浮点类型\n",
    "print(y,y.dtype)\n",
    "z = i.type_as(x)\n",
    "# 使用type_as方法转换成某个Tensor相同类型\n",
    "print(z,z.dtype)"
   ]
  },
  {
   "cell_type": "code",
   "execution_count": 8,
   "id": "ceaf0539",
   "metadata": {},
   "outputs": [
    {
     "name": "stdout",
     "output_type": "stream",
     "text": [
      "tensor(True)\n",
      "0\n"
     ]
    }
   ],
   "source": [
    "# 二、 张量的维度\n",
    "# 不同类型的数据可以用不同维度的张量来表示。\n",
    "\n",
    "# 标量为0维张量，\n",
    "# 向量为1维张量，\n",
    "# 矩阵为2维张量，\n",
    "# RGB可以表述为3为张量。\n",
    "# 视频时间维可以表示为4维张量。\n",
    "\n",
    "# 简单理解为：有几层中括号就是几维张量。\n",
    "\n",
    "# 1. 标量\n",
    "scalar = torch.tensor(True)\n",
    "print(scalar)\n",
    "print(scalar.dim())\n"
   ]
  },
  {
   "cell_type": "code",
   "execution_count": 9,
   "id": "59d7bd89",
   "metadata": {},
   "outputs": [
    {
     "name": "stdout",
     "output_type": "stream",
     "text": [
      "tensor([1., 2., 3., 4.])\n",
      "1\n"
     ]
    }
   ],
   "source": [
    "# 2. 向量\n",
    "vector = torch.tensor([1.0, 2.0, 3.0, 4.0])\n",
    "print(vector)\n",
    "print(vector.dim())"
   ]
  },
  {
   "cell_type": "code",
   "execution_count": 11,
   "id": "cfc12948",
   "metadata": {},
   "outputs": [
    {
     "name": "stdout",
     "output_type": "stream",
     "text": [
      "tensor([[1., 2.],\n",
      "        [3., 4.]])\n",
      "2\n"
     ]
    }
   ],
   "source": [
    "# 3. 矩阵\n",
    "matrix = torch.tensor([[1.0,2.0], [3.0,4.0]])\n",
    "print(matrix)\n",
    "print(matrix.dim())"
   ]
  },
  {
   "cell_type": "code",
   "execution_count": 12,
   "id": "2d4806e2",
   "metadata": {},
   "outputs": [
    {
     "name": "stdout",
     "output_type": "stream",
     "text": [
      "tensor([[[1., 2.],\n",
      "         [3., 4.]],\n",
      "\n",
      "        [[5., 6.],\n",
      "         [7., 8.]]])\n",
      "3\n"
     ]
    }
   ],
   "source": [
    "# 4. 三维张量\n",
    "matrix = torch.tensor([[[1.0,2.0],[3.0,4.0]],[[5.0,6.0], [7.0,8.0]]])\n",
    "print(matrix)\n",
    "print(matrix.dim())"
   ]
  },
  {
   "cell_type": "code",
   "execution_count": 13,
   "id": "33f4e140",
   "metadata": {
    "scrolled": true
   },
   "outputs": [
    {
     "name": "stdout",
     "output_type": "stream",
     "text": [
      "tensor([[[[1., 1.],\n",
      "          [2., 2.]],\n",
      "\n",
      "         [[3., 3.],\n",
      "          [4., 4.]]],\n",
      "\n",
      "\n",
      "        [[[5., 5.],\n",
      "          [6., 6.]],\n",
      "\n",
      "         [[7., 7.],\n",
      "          [8., 8.]]]])\n",
      "4\n"
     ]
    }
   ],
   "source": [
    "# 5. 四维张量\n",
    "tensor4 = torch.tensor([[[[1.0,1.0],[2.0,2.0]],[[3.0,3.0],[4.0,4.0]]],                        \n",
    "                        [[[5.0,5.0],[6.0,6.0]],[[7.0,7.0],[8.0,8.0]]]])\n",
    "\n",
    "print(tensor4)\n",
    "print(tensor4.dim())"
   ]
  },
  {
   "cell_type": "code",
   "execution_count": 14,
   "id": "a4c5bc55",
   "metadata": {},
   "outputs": [
    {
     "name": "stdout",
     "output_type": "stream",
     "text": [
      "torch.Size([])\n",
      "torch.Size([4])\n"
     ]
    }
   ],
   "source": [
    "# 三、 张量的尺寸\n",
    "# 使用shape属性或者size()方法查看每一维度的长度\n",
    "# 使用view()方法改变张量尺寸。\n",
    "# 如果fail，使用reshape()方法\n",
    "\n",
    "scalar  = torch.tensor(True)\n",
    "# 查看长度\n",
    "print(scalar.size())\n",
    "print(vector.shape)"
   ]
  },
  {
   "cell_type": "code",
   "execution_count": 16,
   "id": "60d15311",
   "metadata": {},
   "outputs": [
    {
     "name": "stdout",
     "output_type": "stream",
     "text": [
      "torch.Size([4])\n",
      "torch.Size([4])\n"
     ]
    }
   ],
   "source": [
    "vector = torch.tensor([1.0,2.0,3.0,4.0])\n",
    "print(vector.size())\n",
    "print(vector.shape)"
   ]
  },
  {
   "cell_type": "code",
   "execution_count": 19,
   "id": "8e7ce24b",
   "metadata": {},
   "outputs": [
    {
     "name": "stdout",
     "output_type": "stream",
     "text": [
      "torch.Size([2, 2])\n",
      "torch.Size([2, 2])\n"
     ]
    }
   ],
   "source": [
    "matrix = torch.tensor([[1.0,2.0],[3.0,4.0]])\n",
    "print(matrix.size())\n",
    "print(matrix.shape)"
   ]
  },
  {
   "cell_type": "code",
   "execution_count": 22,
   "id": "b1e24913",
   "metadata": {},
   "outputs": [
    {
     "name": "stdout",
     "output_type": "stream",
     "text": [
      "tensor([ 0,  1,  2,  3,  4,  5,  6,  7,  8,  9, 10, 11])\n",
      "torch.Size([12])\n",
      "tensor([[ 0,  1,  2,  3],\n",
      "        [ 4,  5,  6,  7],\n",
      "        [ 8,  9, 10, 11]])\n",
      "torch.Size([2, 2])\n",
      "tensor([[ 0,  1,  2],\n",
      "        [ 3,  4,  5],\n",
      "        [ 6,  7,  8],\n",
      "        [ 9, 10, 11]])\n",
      "torch.Size([2, 2])\n"
     ]
    }
   ],
   "source": [
    "# 使用view改变张量尺寸操作：\n",
    "\n",
    "vector = torch.arange(0,12)\n",
    "print(vector)\n",
    "print(vector.shape)\n",
    "\n",
    "matrix34 = vector.view(3,4)\n",
    "print(matrix34)\n",
    "print(matrix.shape)\n",
    "\n",
    "matrix43 = vector.view(4,-1) #-1表示该位置长度由程序自动判断\n",
    "print(matrix43)\n",
    "print(matrix.shape)"
   ]
  },
  {
   "cell_type": "code",
   "execution_count": 24,
   "id": "fa6e4bdb",
   "metadata": {},
   "outputs": [
    {
     "name": "stdout",
     "output_type": "stream",
     "text": [
      "tensor([[ 0,  1,  2,  3,  4,  5],\n",
      "        [ 6,  7,  8,  9, 10, 11]])\n",
      "torch.Size([2, 6])\n",
      "False\n",
      "tensor([[ 0,  6,  1,  7],\n",
      "        [ 2,  8,  3,  9],\n",
      "        [ 4, 10,  5, 11]])\n"
     ]
    }
   ],
   "source": [
    "# 有些方法会让张量存储结构扭曲\n",
    "# 直接使用view会失败\n",
    "# 这时候应该使用reshape方法\n",
    "\n",
    "matrix26 = torch.arange(0,12).view(2,6)\n",
    "print(matrix26)\n",
    "print(matrix26.shape)\n",
    "\n",
    "# 转置操作让张良存储结构扭曲\n",
    "\n",
    "matrix62 = matrix26.t()\n",
    "print(matrix62.is_contiguous())\n",
    "\n",
    "# 这时候使用view会失败。这时候要用reshape\n",
    "\n",
    "# matrix34 = matrix62.view(3,4) Error！！！！\n",
    "matrix34 = matrix62.reshape(3,4)\n",
    "print(matrix34)"
   ]
  },
  {
   "cell_type": "code",
   "execution_count": 26,
   "id": "af435dc8",
   "metadata": {},
   "outputs": [
    {
     "name": "stdout",
     "output_type": "stream",
     "text": [
      "before add 1 :\n",
      "[0. 0. 0.]\n",
      "tensor([0., 0., 0.], dtype=torch.float64)\n",
      "\n",
      " after add 1 :\n",
      "[1. 1. 1.]\n",
      "tensor([1., 1., 1.], dtype=torch.float64)\n"
     ]
    }
   ],
   "source": [
    "# 四、 张量和numpy数组\n",
    "\n",
    "# 可以用numpy方法从Tensor得到numpy数组，\n",
    "\n",
    "# 也可以用torch.from_numpy从numpy数组得到Tensor\n",
    "\n",
    "# 这两种方法关联的Tensor和numpy数组是共享数据内存的。 \n",
    "\n",
    "# 如果改变其中一个，另外一个的值也会发生改变。 \n",
    "\n",
    "# 如果有需要，可以用张量的clone方法拷贝张量，中断这种关联 ！！！！！！\n",
    "\n",
    "# 此外，还可以使用item方法从标量张量得到对应的Python数值。 \n",
    "\n",
    "# 使用tolist方法从张量得到对应的Python数值列表。\n",
    "\n",
    "import numpy as np\n",
    "import torch\n",
    "\n",
    "# 1. torch.from_numpy函数从numpy数组获取Tensor\n",
    "arr = np.zeros(3)\n",
    "tensor = torch.from_numpy(arr)\n",
    "print(\"before add 1 :\")\n",
    "print(arr)\n",
    "print(tensor)\n",
    "\n",
    "print(\"\\n after add 1 :\")\n",
    "np.add(arr,1,out = arr) #给arr增加1，tensor也会随之改变!!!!!!!\n",
    "print(arr)\n",
    "print(tensor)"
   ]
  },
  {
   "cell_type": "code",
   "execution_count": 27,
   "id": "93d6aa04",
   "metadata": {},
   "outputs": [
    {
     "name": "stdout",
     "output_type": "stream",
     "text": [
      "before add 1 :\n",
      "tensor([0., 0., 0.])\n",
      "[0. 0. 0.]\n",
      "tensor([1., 1., 1.])\n",
      "[1. 1. 1.]\n"
     ]
    }
   ],
   "source": [
    "# 2. numpy方法从Tensor得到数组\n",
    "\n",
    "tensor = torch.zeros(3)\n",
    "arr = tensor.numpy()\n",
    "print(\"before add 1 :\")\n",
    "print(tensor)\n",
    "print(arr)\n",
    "\n",
    "tensor.add_(1)\n",
    "# 或者torch.add(tensor,1,out = tensor)\n",
    "\n",
    "print(tensor)\n",
    "print(arr)"
   ]
  },
  {
   "cell_type": "code",
   "execution_count": 28,
   "id": "1ac74fc8",
   "metadata": {},
   "outputs": [
    {
     "name": "stdout",
     "output_type": "stream",
     "text": [
      "before add 1 :\n",
      "tensor([0., 0., 0.])\n",
      "[0. 0. 0.]\n",
      "\n",
      "after add 1 ：\n",
      "tensor([1., 1., 1.])\n",
      "[0. 0. 0.]\n"
     ]
    }
   ],
   "source": [
    "# 3. 使用clone方法拷贝张量，中断联系\n",
    "\n",
    "tensor = torch.zeros(3)\n",
    "arr = tensor.clone().numpy()\n",
    "print(\"before add 1 :\")\n",
    "print(tensor)\n",
    "print(arr)\n",
    "\n",
    "# 使用带下划线的方法表示计算结果会返回给调用张量\n",
    "print(\"\\nafter add 1 ：\")\n",
    "\n",
    "tensor.add_(1)\n",
    "print(tensor)\n",
    "print(arr)"
   ]
  },
  {
   "cell_type": "code",
   "execution_count": 30,
   "id": "f40073dc",
   "metadata": {},
   "outputs": [
    {
     "name": "stdout",
     "output_type": "stream",
     "text": [
      "1.0\n",
      "<class 'float'>\n",
      "tensor([[0.9456, 0.7354],\n",
      "        [0.4509, 0.4178]])\n",
      "[[0.9456409215927124, 0.7354218363761902], [0.4508856534957886, 0.4177810549736023]]\n",
      "<class 'list'>\n"
     ]
    }
   ],
   "source": [
    "# 4. item方法和tolist方法可以将tensor转换成python数值和数值列表\n",
    "\n",
    "scalar = torch.tensor(1.0)\n",
    "s = scalar.item()\n",
    "print(s)\n",
    "print(type(s))\n",
    "\n",
    "tensor = torch.rand(2,2)\n",
    "t = tensor.tolist()\n",
    "print(tensor)\n",
    "print(t)\n",
    "print(type(t))"
   ]
  }
 ],
 "metadata": {
  "kernelspec": {
   "display_name": "Python 3 (ipykernel)",
   "language": "python",
   "name": "python3"
  },
  "language_info": {
   "codemirror_mode": {
    "name": "ipython",
    "version": 3
   },
   "file_extension": ".py",
   "mimetype": "text/x-python",
   "name": "python",
   "nbconvert_exporter": "python",
   "pygments_lexer": "ipython3",
   "version": "3.8.11"
  }
 },
 "nbformat": 4,
 "nbformat_minor": 5
}
