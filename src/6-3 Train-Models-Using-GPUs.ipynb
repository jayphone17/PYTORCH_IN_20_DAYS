{
 "cells": [
  {
   "cell_type": "code",
   "execution_count": 1,
   "id": "81301158",
   "metadata": {},
   "outputs": [],
   "source": [
    "# 深度学习的训练过程常常非常耗时，一个模型训练几个小时是家常便饭，\n",
    "\n",
    "# 训练几天也是常有的事情，有时候甚至要训练几十天。\n",
    "\n",
    "# 训练过程的耗时主要来自于两个部分，一部分来自数据准备，另一部分来自参数迭代。\n",
    "\n",
    "# 当数据准备过程还是模型训练时间的主要瓶颈时，我们可以使用更多进程来准备数据。\n",
    "\n",
    "# 当参数迭代过程成为训练时间的主要瓶颈时，我们通常的方法是应用GPU来进行加速。\n",
    "\n",
    "# Pytorch中使用GPU加速模型非常简单，只要将模型和数据移动到GPU上。核心代码只有以下几行。"
   ]
  },
  {
   "cell_type": "code",
   "execution_count": 3,
   "id": "e19bddb4",
   "metadata": {},
   "outputs": [],
   "source": [
    "# 定义模型\n",
    "# ... \n",
    "\n",
    "# device = torch.device(\"cuda:0\" if torch.cuda.is_available() else \"cpu\")\n",
    "# model.to(device) # 移动模型到cuda\n",
    "\n",
    "# 训练模型\n",
    "# ...\n",
    "\n",
    "# features = features.to(device) # 移动数据到cuda\n",
    "# labels = labels.to(device) \n",
    "# 或者  labels = labels.cuda() if torch.cuda.is_available() else labels\n",
    "# ..."
   ]
  },
  {
   "cell_type": "code",
   "execution_count": 4,
   "id": "151faf8e",
   "metadata": {},
   "outputs": [],
   "source": [
    "# 如果要使用多个GPU训练模型，也非常简单。只需要在将模型设置为数据并行风格模型。\n",
    "\n",
    "# 则模型移动到GPU上之后，会在每一个GPU上拷贝一个副本，\n",
    "\n",
    "# 并把数据平分到各个GPU上进行训练。核心代码如下。\n",
    "\n",
    "# #定义模型\n",
    "# ... \n",
    "\n",
    "# if torch.cuda.device_count() > 1:\n",
    "#     model = nn.DataParallel(model) # 包装为并行风格模型\n",
    "\n",
    "# # 训练模型\n",
    "# ...\n",
    "# features = features.to(device) # 移动数据到cuda\n",
    "# labels = labels.to(device) # 或者 labels = labels.cuda() if torch.cuda.is_available() else labels\n",
    "# ..."
   ]
  },
  {
   "cell_type": "code",
   "execution_count": null,
   "id": "94cf9021",
   "metadata": {},
   "outputs": [],
   "source": []
  }
 ],
 "metadata": {
  "kernelspec": {
   "display_name": "Python 3 (ipykernel)",
   "language": "python",
   "name": "python3"
  },
  "language_info": {
   "codemirror_mode": {
    "name": "ipython",
    "version": 3
   },
   "file_extension": ".py",
   "mimetype": "text/x-python",
   "name": "python",
   "nbconvert_exporter": "python",
   "pygments_lexer": "ipython3",
   "version": "3.8.11"
  }
 },
 "nbformat": 4,
 "nbformat_minor": 5
}
