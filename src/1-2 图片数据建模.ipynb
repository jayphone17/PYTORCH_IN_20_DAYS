{
 "cells": [
  {
   "cell_type": "code",
   "execution_count": 2,
   "id": "e1a016cb",
   "metadata": {},
   "outputs": [],
   "source": [
    "import os\n",
    "import datetime\n",
    "\n",
    "def printbar():\n",
    "    nowtime = datetime.datetime.now().strftime('%Y-%m-%d %H:%M:%S')\n",
    "    print(\"\\n\" + \"==========\" * 8 + \"%s\" % nowtime)\n",
    "os.environ[\"KMP_DUPLICATE_LIB_OK\"]=\"TRUE\""
   ]
  },
  {
   "cell_type": "code",
   "execution_count": null,
   "id": "c3fb4d87",
   "metadata": {},
   "outputs": [],
   "source": [
    "# 一、准备数据！！！！\n",
    "# cifar2数据集为cifar10数据集的子集，\n",
    "# 只包括前两种类别airplane和automobile。 \n",
    "# 训练集有airplane和automobile图片各5000张，\n",
    "# 测试集有airplane和automobile图片各1000张。 \n",
    "# <cifar2任务的目标是训练一个模型来对飞机airplane和机动车automobile两种图片进行分类。>\n",
    "\n",
    "# 在Pytorch中构建图片数据管道通常有两种方法。 \n",
    "# 第一种是使用 torchvision中的datasets.ImageFolder来读取图片然后用 DataLoader来并行加载。\n",
    "# 第二种是通过继承 torch.utils.data.Dataset 实现用户自定义读取逻辑\n",
    "# 然后用 DataLoader来并行加载。 \n",
    "# 第二种方法是读取用户自定义数据集的通用方法，\n",
    "# 既可以读取图片数据集，也可以读取文本数据集。\n",
    "\n",
    "import torch\n",
    "from torch import nn\n",
    "from torch.utils.data import Dataset, DataLoader\n",
    "from torchvision import transforms, datasets\n",
    "\n"
   ]
  }
 ],
 "metadata": {
  "kernelspec": {
   "display_name": "Python 3 (ipykernel)",
   "language": "python",
   "name": "python3"
  },
  "language_info": {
   "codemirror_mode": {
    "name": "ipython",
    "version": 3
   },
   "file_extension": ".py",
   "mimetype": "text/x-python",
   "name": "python",
   "nbconvert_exporter": "python",
   "pygments_lexer": "ipython3",
   "version": "3.8.11"
  }
 },
 "nbformat": 4,
 "nbformat_minor": 5
}
