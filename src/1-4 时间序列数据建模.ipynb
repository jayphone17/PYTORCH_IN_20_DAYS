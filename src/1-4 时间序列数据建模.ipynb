{
 "cells": [
  {
   "cell_type": "code",
   "execution_count": null,
   "id": "370d5726",
   "metadata": {},
   "outputs": [],
   "source": [
    "import os \n",
    "import datetime \n",
    "import importlib \n",
    "import torchkeras \n",
    "#打印时间 \n",
    "def printbar():    \n",
    "    nowtime = datetime.datetime.now().strftime('%Y-%m-%d %H:%M:%S')    \n",
    "    print(\"\\n\"+\"==========\"*8 + \"%s\"%nowtime) \n",
    "#mac系统上pytorch和matplotlib在jupyter中同时跑需要更改环境变量 \n",
    "os.environ[\"KMP_DUPLICATE_LIB_OK\"]=\"TRUE\""
   ]
  }
 ],
 "metadata": {
  "kernelspec": {
   "display_name": "Python 3 (ipykernel)",
   "language": "python",
   "name": "python3"
  },
  "language_info": {
   "codemirror_mode": {
    "name": "ipython",
    "version": 3
   },
   "file_extension": ".py",
   "mimetype": "text/x-python",
   "name": "python",
   "nbconvert_exporter": "python",
   "pygments_lexer": "ipython3",
   "version": "3.8.11"
  }
 },
 "nbformat": 4,
 "nbformat_minor": 5
}
